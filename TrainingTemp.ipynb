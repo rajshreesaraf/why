{
  "nbformat": 4,
  "nbformat_minor": 0,
  "metadata": {
    "colab": {
      "name": "TrainingTemp.ipynb",
      "provenance": [],
      "collapsed_sections": [],
      "include_colab_link": true
    },
    "kernelspec": {
      "name": "python3",
      "display_name": "Python 3"
    },
    "language_info": {
      "name": "python"
    }
  },
  "cells": [
    {
      "cell_type": "markdown",
      "metadata": {
        "id": "view-in-github",
        "colab_type": "text"
      },
      "source": [
        "<a href=\"https://colab.research.google.com/github/rajshreesaraf/why/blob/master/TrainingTemp.ipynb\" target=\"_parent\"><img src=\"https://colab.research.google.com/assets/colab-badge.svg\" alt=\"Open In Colab\"/></a>"
      ]
    },
    {
      "cell_type": "code",
      "metadata": {
        "id": "ZAukmAwpiPBA"
      },
      "source": [
        "from google.colab import drive\n",
        "drive.mount('/drive')"
      ],
      "execution_count": null,
      "outputs": []
    },
    {
      "cell_type": "markdown",
      "metadata": {
        "id": "Y4wjy7-ViSgW"
      },
      "source": [
        "connect g drive ////// runu GPU ///\n"
      ]
    },
    {
      "cell_type": "code",
      "metadata": {
        "id": "ellfJAJGiWqD"
      },
      "source": [
        "%tensorflow_version 1.x\n",
        "!pip3 install --quiet git+https://www.github.com/ml4a/ml4a"
      ],
      "execution_count": null,
      "outputs": []
    },
    {
      "cell_type": "markdown",
      "metadata": {
        "id": "-vx_NR8tido7"
      },
      "source": [
        "does something idk -- gets the library? "
      ]
    },
    {
      "cell_type": "code",
      "metadata": {
        "id": "crChN86Ui1fU"
      },
      "source": [
        "from ml4a import image\n",
        "from ml4a.models import stylegan\n",
        "\n",
        "stylegan.get_pretrained_models()"
      ],
      "execution_count": null,
      "outputs": []
    },
    {
      "cell_type": "markdown",
      "metadata": {
        "id": "GrCo0PEti2cc"
      },
      "source": [
        "load gan"
      ]
    },
    {
      "cell_type": "code",
      "metadata": {
        "id": "F9Pvz3Vfp5_m"
      },
      "source": [
        "from ml4a.models import stylegan\n",
        "\n",
        "# replace 'images_folder' and 'dataset_output' with your own locations.\n",
        "\n",
        "config = {\n",
        "    'images_folder': '/drive/My Drive/datasets/wikiart/', #from where- existing folder\n",
        "    'dataset_output': '/drive/My Drive/datasets/wikiart_stylegan/', # location folder -creates folder\n",
        "    'transform': 'center-crop',\n",
        "    'labels': False,\n",
        "    'size': 512 #can change\n",
        "}\n",
        "\n",
        "stylegan.dataset_tool(config)"
      ],
      "execution_count": null,
      "outputs": []
    },
    {
      "cell_type": "code",
      "metadata": {
        "id": "eZl_KdtZqYeD"
      },
      "source": [
        "from ml4a.models import stylegan\n",
        "\n",
        "config = {    \n",
        "    # output options\n",
        "    'results_dir': '/drive/MyDrive/ColabNotebooks/Results/rajshreesaraf', # change to your own folder\n",
        "    'save_every': 15,   \n",
        "    \n",
        "    # dataset options\n",
        "    'dataset_root': '/drive/MyDrive/ColabNotebooks/Datasets/rajshreesaraf_ADA', # change to your own datasets\n",
        "    'mirror': False,\n",
        "    'labels': False,\n",
        "    \n",
        "    # training options\n",
        "    'base_config': 'stylegan2',\n",
        "    'kimg': 25000,\n",
        "    \n",
        "    # resume from previous checkpoint \n",
        "    'resume': stylegan.get_pretrained_model('metfaces'),\n",
        "\n",
        "    # available GPUs\n",
        "    'gpu': [0]\n",
        "}\n",
        "\n",
        "# begin training\n",
        "stylegan.train(config)"
      ],
      "execution_count": null,
      "outputs": []
    }
  ]
}