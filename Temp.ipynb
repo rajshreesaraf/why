{
  "nbformat": 4,
  "nbformat_minor": 0,
  "metadata": {
    "colab": {
      "name": "Temp.ipynb",
      "provenance": [],
      "collapsed_sections": [],
      "include_colab_link": true
    },
    "kernelspec": {
      "name": "python3",
      "display_name": "Python 3"
    },
    "language_info": {
      "name": "python"
    }
  },
  "cells": [
    {
      "cell_type": "markdown",
      "metadata": {
        "id": "view-in-github",
        "colab_type": "text"
      },
      "source": [
        "<a href=\"https://colab.research.google.com/github/rajshreesaraf/why/blob/master/Temp.ipynb\" target=\"_parent\"><img src=\"https://colab.research.google.com/assets/colab-badge.svg\" alt=\"Open In Colab\"/></a>"
      ]
    },
    {
      "cell_type": "code",
      "metadata": {
        "id": "ZAukmAwpiPBA"
      },
      "source": [
        "from google.colab import drive\n",
        "drive.mount('/drive')"
      ],
      "execution_count": null,
      "outputs": []
    },
    {
      "cell_type": "markdown",
      "metadata": {
        "id": "Y4wjy7-ViSgW"
      },
      "source": [
        "connect g drive ////// runu GPU ///\n"
      ]
    },
    {
      "cell_type": "code",
      "metadata": {
        "id": "ellfJAJGiWqD"
      },
      "source": [
        "%tensorflow_version 1.x\n",
        "!pip3 install --quiet git+https://www.github.com/ml4a/ml4a"
      ],
      "execution_count": null,
      "outputs": []
    },
    {
      "cell_type": "markdown",
      "metadata": {
        "id": "-vx_NR8tido7"
      },
      "source": [
        "does something idk -- gets the library? "
      ]
    },
    {
      "cell_type": "code",
      "metadata": {
        "id": "crChN86Ui1fU"
      },
      "source": [
        "from ml4a import image\n",
        "from ml4a.models import stylegan\n",
        "\n",
        "stylegan.get_pretrained_models()"
      ],
      "execution_count": null,
      "outputs": []
    },
    {
      "cell_type": "markdown",
      "metadata": {
        "id": "GrCo0PEti2cc"
      },
      "source": [
        "load gan"
      ]
    },
    {
      "cell_type": "code",
      "metadata": {
        "id": "jfMJXQj2oftA"
      },
      "source": [
        "network_pkl = sstylegan.get_pretrained_model('ffhq')\n",
        "stylegan.load_model(network_pkl)"
      ],
      "execution_count": null,
      "outputs": []
    },
    {
      "cell_type": "code",
      "metadata": {
        "id": "zbziCa4SrVni"
      },
      "source": [
        "samples = stylegan.random_sample(6, label=None, truncation=1.0)\n",
        "image.display(samples)"
      ],
      "execution_count": null,
      "outputs": []
    },
    {
      "cell_type": "markdown",
      "metadata": {
        "id": "qFpd9M_krWNb"
      },
      "source": [
        "samples OR"
      ]
    },
    {
      "cell_type": "code",
      "metadata": {
        "id": "sdWwfZknrdiQ"
      },
      "source": [
        "from ml4a import image\n",
        "import numpy as np\n",
        "\n",
        "# stylegan.G.z_dim gives you the dimensionality of the latent space\n",
        "latents = np.random.randn(3, stylegan.G.z_dim)\n",
        "labels = None\n",
        "    \n",
        "img = stylegan.generate(latents, None, truncation=1.0)\n",
        "\n",
        "image.display(img)"
      ],
      "execution_count": null,
      "outputs": []
    }
  ]
}